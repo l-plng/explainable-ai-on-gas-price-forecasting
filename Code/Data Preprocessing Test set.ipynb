{
 "cells": [
  {
   "cell_type": "markdown",
   "metadata": {},
   "source": [
    "# Daten\n",
    "\n",
    "Funktionen:\n",
    "- def process_files:  zum Verarbeiten aller Files\n",
    "- def test_stationarity(data, variable_name): zum Testen der Stationarität eines dataframes -> Ausgabe: Liste mit Tupeln"
   ]
  },
  {
   "cell_type": "markdown",
   "metadata": {},
   "source": [
    "## Daten importieren und mergen"
   ]
  },
  {
   "cell_type": "code",
   "execution_count": null,
   "metadata": {},
   "outputs": [],
   "source": [
    "#Daten zusammenfügen\n",
    "import pandas as pd\n",
    "import glob\n",
    "import os\n",
    "from collections import defaultdict\n",
    "import pickle\n",
    "import numpy as np\n",
    "from statsmodels.tsa.stattools import adfuller\n",
    "from statsmodels.tsa.seasonal import seasonal_decompose\n",
    "from statsmodels.graphics.tsaplots import plot_acf, plot_pacf\n",
    "from statsmodels.tsa.seasonal import seasonal_decompose\n",
    "from statsmodels.tsa.stattools import grangercausalitytests\n",
    "from statsmodels.tsa.stattools import acf\n",
    "from statsmodels.tsa.seasonal import STL\n",
    "from scipy.stats import spearmanr\n",
    "from scipy.fftpack import fft\n",
    "from scipy.signal import find_peaks\n",
    "import matplotlib.pyplot as plt\n",
    "from scipy.interpolate import lagrange\n",
    "import seaborn as sns \n",
    "from sklearn.preprocessing import MinMaxScaler, StandardScaler\n",
    "from hampel import hampel\n",
    "import joblib\n",
    "\n",
    "\n",
    "\n",
    "with open('test_dfs.pkl', 'rb') as f:\n",
    "    test_dfs = pickle.load(f)\n",
    "test_hourly = test_dfs[0]\n",
    "test_daily = test_dfs[1]\n",
    "test_weekly = test_dfs[2]\n",
    "test_monthly = test_dfs[3]"
   ]
  },
  {
   "cell_type": "markdown",
   "metadata": {},
   "source": [
    "## Daten up and downsampeln\n",
    "\n",
    "###Allgemein\n",
    "- cubic interpolation for weekly data\n",
    "- median resampling for hourly data \n",
    "- cubic interpolation for monthly data \n",
    "    - divide summed value by index.days and interpolate afterwards\n",
    "\n",
    "###Others\n",
    "- fill NaN values for US LNG to Germany with 0"
   ]
  },
  {
   "cell_type": "code",
   "execution_count": 39,
   "metadata": {},
   "outputs": [],
   "source": [
    "#Upsampling\n",
    "\n",
    "\n",
    "#Interpolieren der Daten\n",
    "for df in test_dfs: \n",
    "    if 'Date' in df.columns:\n",
    "        df.set_index('Date', inplace=True) # Setze die 'Date'-Spalte als Index\n",
    "    else:\n",
    "        print(f\"'Date' column not found in dataframe with columns: {df.columns}\")\n",
    "\n",
    "# Resample auf tägliche Daten und Interpolation der numerischen Spalten\n",
    "daily_df_from_weekly = test_weekly.resample('D').interpolate(method= 'cubic')\n",
    "start_date = pd.to_datetime('2023-10-01')\n",
    "if daily_df_from_weekly.index.min() > start_date:\n",
    "    # Falls keine Daten ab dem 01.10.2023 vorhanden sind, reindexiere den DataFrame mit bfill\n",
    "    daily_df_from_weekly = daily_df_from_weekly.reindex(pd.date_range(start=start_date, end=daily_df_from_weekly.index.max(), freq='D'))\n",
    "    daily_df_from_weekly = daily_df_from_weekly.bfill()  # Backfilling der fehlenden Werte\n",
    "daily_from_hourly = test_hourly.resample ('D').median()\n",
    "\n",
    "# Resample die Daten auf täglich und führe eine Interpolation mit cubic durch\n",
    "for  col in test_monthly:\n",
    "    if col.startswith('A'):\n",
    "        test_monthly[col] = test_monthly[col].div(test_monthly.index.days_in_month, axis=0).round(3)\n",
    "        \n",
    "daily_from_monthly = test_monthly.resample('D').interpolate(method='cubic')   \n",
    "# Setze alle Werte bis zum Startdatum der Interpolation auf 0 im daily_from_monthly DataFrame\n",
    "all_daily_dfs = [daily_df_from_weekly, daily_from_hourly, daily_from_monthly, test_daily]\n",
    "\n",
    "\n",
    "#combine all daily data frames\n",
    "test_final_df = pd.concat(all_daily_dfs, axis=1)\n",
    "test_final_df.index = pd.to_datetime(test_final_df.index)\n",
    "\n",
    "test_final_df = test_final_df.loc[:, ~test_final_df.columns.str.startswith('Unnamed')]\n",
    "#Lag von 1 Tag einbaune, da gestrige Daten die neusten Daten sind, die vorliegen\n",
    "columns_to_lag_one = [col for col in test_final_df.columns if col != 'S-Gas DA NL']\n",
    "\n",
    "# Daten um einen Tag verschieben (Lag)\n",
    "test_final_df[columns_to_lag_one] = test_final_df[columns_to_lag_one].shift(1)\n",
    "\n",
    "\n",
    "# test_final_df auf drei Nachkommastellen runden\n",
    "test_final_df = test_final_df.round(3)\n"
   ]
  },
  {
   "cell_type": "markdown",
   "metadata": {},
   "source": [
    "### Up- und downgesampelte Daten plotten\n",
    "Optional"
   ]
  },
  {
   "cell_type": "code",
   "execution_count": 40,
   "metadata": {},
   "outputs": [
    {
     "data": {
      "text/plain": [
       "'#alle monatlichen in getrennten plots plotten\\nnum_columns = len(daily_from_monthly.columns)  # Anzahl der Spalten\\nfig, axes = plt.subplots(num_columns, 1, figsize=(15, 6 * num_columns))\\n\\n# Wenn es nur eine Spalte gibt, sorgt dieser Code dafür, dass axes eine einzelne Achse ist\\nif num_columns == 1:\\n    axes = [axes]\\n\\n# Gehe jede Spalte durch und erstelle ein Diagramm\\nfor i, column in enumerate(daily_from_monthly.columns):\\n    # Daily Interpolated plot\\n    axes[i].plot(daily_from_monthly.index, daily_from_monthly[column], label=f\\'Daily Interpolated {column}\\', linestyle=\\'-\\', marker=\\'\\')\\n\\n    # Monthly Data plot\\n    axes[i].plot(merged_df_monthly.index, merged_df_monthly[column], label=f\\'Monthly Data {column}\\', linestyle=\\'--\\', marker=\\'o\\')\\n\\n    # Achsenbeschriftungen und Titel\\n    axes[i].set_xlabel(\"Datum\")\\n    axes[i].set_ylabel(\"Wert\")\\n    axes[i].set_title(f\"Vergleich: Daily Interpolated vs. Monthly Data ({column})\")\\n    axes[i].legend()\\n    axes[i].grid(True)\\n\\n# Layout anpassen, um Überschneidungen zu vermeiden\\nplt.tight_layout()\\nplt.show()'"
      ]
     },
     "execution_count": 40,
     "metadata": {},
     "output_type": "execute_result"
    }
   ],
   "source": [
    "\"\"\"# Diagramm für wöchentliche Daten\n",
    "plt.figure(figsize=(15, 6))\n",
    "\n",
    "# Plot für jede numerische Spalte in daily_df_from_weekly\n",
    "for column in daily_df_from_weekly.columns:\n",
    "    plt.plot(daily_df_from_weekly.index, daily_df_from_weekly[column], label=f'Daily Interpolated {column}', linestyle='-', marker='')\n",
    "\n",
    "# Plot für jede numerische Spalte in merged_df_weekly\n",
    "for column in merged_df_weekly.columns:\n",
    "    plt.plot(merged_df_weekly.index, merged_df_weekly[column], label=f'Weekly Data {column}', linestyle='--', marker='o')\n",
    "\n",
    "# Diagramm beschriften\n",
    "plt.xlabel('Date')\n",
    "plt.ylabel('Value')\n",
    "plt.title('Weekly Data vs. Daily Interpolated Data')\n",
    "plt.legend()\n",
    "plt.grid(True)\n",
    "\n",
    "    # Diagramm anzeigen\n",
    "plt.show()\n",
    "    # Plot für jede numerische Spalte in daily_df_from_hourly\n",
    "\n",
    "#Diagramm für stündliche Daten\n",
    "plt.figure(figsize=(15, 6))\n",
    "for column in daily_from_hourly.columns:\n",
    "    plt.plot(daily_from_hourly.index, daily_from_hourly[column], label=f'Daily Interpolated {column}', linestyle='-', marker='')\n",
    "# Plot für jede numerische Spalte in merged_df_hourly\n",
    "for column in merged_df_hourly.columns:\n",
    "    plt.plot(merged_df_hourly.index, merged_df_hourly[column], label=f'Hourly Data {column}', linestyle='--', marker='o')\n",
    "\n",
    "# Legende, Achsentitel und Anzeige des Plots\n",
    "plt.xlabel(\"Datum\")\n",
    "plt.ylabel(\"Wert\")\n",
    "plt.title(\"Vergleich: Daily Interpolated vs. Hourly Data\")\n",
    "plt.legend()\n",
    "plt.grid(True)\n",
    "plt.show()\"\"\"\n",
    "\n",
    "\"\"\"#alle monatlichen in getrennten plots plotten\n",
    "num_columns = len(daily_from_monthly.columns)  # Anzahl der Spalten\n",
    "fig, axes = plt.subplots(num_columns, 1, figsize=(15, 6 * num_columns))\n",
    "\n",
    "# Wenn es nur eine Spalte gibt, sorgt dieser Code dafür, dass axes eine einzelne Achse ist\n",
    "if num_columns == 1:\n",
    "    axes = [axes]\n",
    "\n",
    "# Gehe jede Spalte durch und erstelle ein Diagramm\n",
    "for i, column in enumerate(daily_from_monthly.columns):\n",
    "    # Daily Interpolated plot\n",
    "    axes[i].plot(daily_from_monthly.index, daily_from_monthly[column], label=f'Daily Interpolated {column}', linestyle='-', marker='')\n",
    "\n",
    "    # Monthly Data plot\n",
    "    axes[i].plot(merged_df_monthly.index, merged_df_monthly[column], label=f'Monthly Data {column}', linestyle='--', marker='o')\n",
    "\n",
    "    # Achsenbeschriftungen und Titel\n",
    "    axes[i].set_xlabel(\"Datum\")\n",
    "    axes[i].set_ylabel(\"Wert\")\n",
    "    axes[i].set_title(f\"Vergleich: Daily Interpolated vs. Monthly Data ({column})\")\n",
    "    axes[i].legend()\n",
    "    axes[i].grid(True)\n",
    "\n",
    "# Layout anpassen, um Überschneidungen zu vermeiden\n",
    "plt.tight_layout()\n",
    "plt.show()\"\"\"\n",
    "\n"
   ]
  },
  {
   "cell_type": "markdown",
   "metadata": {},
   "source": [
    "## 1. Data Preprocessing"
   ]
  },
  {
   "cell_type": "markdown",
   "metadata": {},
   "source": [
    "### 1.1 Data Anomalies - Outliers and Missing values"
   ]
  },
  {
   "cell_type": "markdown",
   "metadata": {},
   "source": [
    "#### Outliers\n",
    "- drop all weekend data\n",
    "- convert UnPlanned Unavailability into binary format\n",
    "- check whether data frame only hold numerical values\n",
    "- drop all columns that do not differ from others besides unit\n",
    "- insert new columns with sum of US export terminals"
   ]
  },
  {
   "cell_type": "code",
   "execution_count": 41,
   "metadata": {},
   "outputs": [],
   "source": [
    "# Tage extrahieren\n",
    "test_final_df['Day'] = test_final_df.index.weekday+1\n",
    "\n",
    "test_final_df = test_final_df[~test_final_df['Day'].isin([6,7])]\n",
    "test_final_df = test_final_df.drop(columns=['Day'])\n",
    "\n",
    "\n",
    "test_final_df['A- UnPlanned Unavailability Norway'] = (test_final_df['A- UnPlanned Unavailability Norway'] == 'Unplanned').astype(int)\n",
    "\n",
    "#Check whether the data frame only hold numerical values\n",
    "for column in test_final_df:\n",
    "    if test_final_df[column].dtype == 'object':\n",
    "        print(test_final_df[column].name)\n",
    "        \n",
    "## First Feature Selection\n",
    "test_final_df =test_final_df.drop(columns=['A-Annual Consumption (TWh)', 'A- Gas stprage Technical Capacity (TWh)', 'A-Injection capacity (GWh/d)','N-Withdrawal capacity (GWh/d)','A-LNG Inventory (10³ ? LNG)', 'A-Technical Capacity / DTMI (10³ ? LNG)']) \n",
    "\n",
    "# Neue Spalte zu Exportterminals LNG in USA hinzufügen\n",
    "lng_columns = [col for col in test_final_df.columns if col.startswith('A-LNG US')]\n",
    "test_final_df['A-US LNG Exportterminals'] = test_final_df[lng_columns].sum(axis=1).round(3)\n",
    "\n",
    "# Lösche die ursprünglichen 'A-LNG US'-Spalten\n",
    "test_final_df.drop(columns=lng_columns, inplace=True)"
   ]
  },
  {
   "cell_type": "markdown",
   "metadata": {},
   "source": [
    "#### Handle missing values \n",
    "- delete all coumns with missing values > 40%\n",
    "- interpolate single misisng values linear\n",
    "- unify units "
   ]
  },
  {
   "cell_type": "markdown",
   "metadata": {},
   "source": [
    "### Selected features"
   ]
  },
  {
   "cell_type": "code",
   "execution_count": 43,
   "metadata": {},
   "outputs": [],
   "source": [
    "#### 1. Feature Selection \n",
    "columns_to_drop = ['A-LNG Inventory (~GWh)', 'A-Send-Out (GWh/d)','A-US LNG to Germany','A- UnPlanned Unavailability Norway',\n",
    "'N&P-Geschaeftslage (Deutschland)',\n",
    "    'N&P-Geschaeftserwartungen (Deutschland)',\n",
    "    'N&P-Geschaeftsklima (verarbeitendes Gewerbe)',\n",
    "    'N&P-Geschaeftslage (verarbeitendes Gewerbe)',\n",
    "    'N&P-Geschaeftserwartungen (verarbeitendes Gewerbe)',\n",
    "    'P-Germany_News_Index',\n",
    "    'A-Gas in storage (TWh)',\n",
    "    'A-gas storage Trend (%)',\n",
    "    'A-Stock/Cons (%)',\n",
    "    'A-Gas Injection (GWh/d)',\n",
    "    'N- Gas Withdrawal (GWh/d)',\n",
    "    'A-Norway Exit Nomination',\n",
    "    'A-Technical Capacity / DTMI (~GWh)',\n",
    "    'A-Send-out capacity (GWh/d)',\n",
    "    'K-Sunshine in s',\n",
    "    'P-EXY (BidNet)',\n",
    "    'S-Gas DA UK',\n",
    "    'S-Gas DA FR',\n",
    "    'S-Gas DA AU',\n",
    "    'S-Gas DA IT',\n",
    "    'S-Coal Channel (Max)',\n",
    "    'S-Coal Channel (Min)',\n",
    "    'S-Coal Switching Price Average',\n",
    "    'A-US LNG Exportterminals',\n",
    "    'A-Flow Norway to Continent (excl UK)',\n",
    "    'A-Flow Norway to UK',\n",
    "    'A-Flow Russian Three Main Lines',\n",
    "    'A-Flow Russia to Bulgaria (TurkStream 2)',\n",
    "    'A-Flow Old Russian Routes to Poland (Drozdowicze, Wysokoje, Tietierowka & PWP)',\n",
    "    'A-Flow Russia to Hungary (Net VIP Bereg)',\n",
    "    'A-Flow North African Piped',\n",
    "    'A-Flow UK LNG Sendout',\n",
    "    'A-Flow Continental LNG Sendout', #wird irgendwie nicht gedropped??\n",
    "    'A-Flow Azerbaijan via TAP to Italy'\n",
    "]\n",
    "selected_features_cross =['S-Coal Price (close)', 'A-Flow North African Piped', 'A-Flow UK LNG Sendout', 'A-Flow Azerbaijan via TAP to Italy', 'N&P-Geschaeftsklima (Deutschland)', 'N&P-Geschaeftserwartungen (Deutschland)', 'N&P-Geschaeftsklima (verarbeitendes Gewerbe)', 'N&P-Geschaeftslage (verarbeitendes Gewerbe)', 'N&P-Geschaeftserwartungen (verarbeitendes Gewerbe)', 'A-gas storage Trend (%)', 'A-LNG Inventory (~GWh)', 'A-Technical Capacity / DTMI (~GWh)', 'A-Send-out capacity (GWh/d)', 'K-Temperatur 2m', 'N-Demand non-LDZ', 'N-Demand LDZ', 'S-Gas DA UK', 'S-Gas DA FR', 'S-Gas DA D', 'S-Gas DA AU', 'S-Gas DA IT', 'S-Coal Channel (Max)', 'S-Coal Channel (Min)', 'S-Coal Switching Price Average', 'S-CO2 Price']\n",
    "selected_features_granger = ['S-Coal Price (close)', 'S-Power price', 'A-Flow Norway to UK', 'A-Flow Russia to Bulgaria (TurkStream 2)', 'A-Flow Old Russian Routes to Poland (Drozdowicze, Wysokoje, Tietierowka & PWP)', 'A-Flow UK LNG Sendout', 'A-Flow Continental LNG Sendout ', 'A-Flow Azerbaijan via TAP to Italy', 'A-US LNG to Germany', 'A-Importiertes Erdgas Deutschland', 'N&P-Geschaeftsklima (Deutschland)', 'N&P-Geschaeftslage (Deutschland)', 'N&P-Geschaeftserwartungen (Deutschland)', 'N&P-Geschaeftsklima (verarbeitendes Gewerbe)', 'N&P-Geschaeftslage (verarbeitendes Gewerbe)', 'P-European_News_Index', 'P-Germany_News_Index', 'P-GPR', 'A-Gas in storage (TWh)', 'A-Gas storage Full (%)', 'A-gas storage Trend (%)', 'A-Stock/Cons (%)', 'A-Gas Injection (GWh/d)', 'A-LNG Inventory (~GWh)', 'A-Technical Capacity / DTMI (~GWh)', 'K-Temperatur 2m', 'K-Sunshine in s', 'N-Demand non-LDZ', 'N-Demand LDZ', 'S-Gas DA UK', 'S-Gas DA D', 'S-Gas DA AU', 'S-Gas DA IT', 'S-Coal Channel (Max)', 'S-Coal Channel (Min)', 'S-Coal Switching Price Average', 'S-CO2 Price', 'A-US LNG Exportterminals']\n",
    "selected_features_corr = ['A-Flow Old Russian Routes to Poland (Drozdowicze, Wysokoje, Tietierowka & PWP)', 'N&P-Geschaeftserwartungen (Deutschland)', 'N&P-Geschaeftslage (verarbeitendes Gewerbe)', 'N&P-Geschaeftserwartungen (verarbeitendes Gewerbe)', 'A-Gas storage Full (%)', 'A-Stock/Cons (%)', 'N- Gas Withdrawal (GWh/d)', 'A-Technical Capacity / DTMI (~GWh)', 'A-Send-Out (GWh/d)', 'A-Send-out capacity (GWh/d)', 'N-Demand LDZ', 'S-Gas DA AU', 'S-Gas DA IT', 'S-Coal Channel (Max)', 'S-Coal Channel (Min)', 'S-Coal Switching Price Average']\n",
    "selected_features_cross= ['S-Coal Price (close)', 'S-Power price', 'P-European_News_Index', 'P-EXY Average ', 'S-Gas DA D']\n",
    "# Spalten entfernen\n",
    "test_final_df = test_final_df.drop(columns=columns_to_drop, errors='ignore')\n",
    "\n",
    "#test_final_df = test_final_df[selected_features_cross]\n",
    "#test_final_df = test_final_df[selected_features_granger]\n",
    "#test_final_df = test_final_df.drop(columns = selected_features_corr, errors = 'ignore')"
   ]
  },
  {
   "cell_type": "code",
   "execution_count": 44,
   "metadata": {},
   "outputs": [
    {
     "name": "stdout",
     "output_type": "stream",
     "text": [
      "            S-Gas DA NL\n",
      "2023-10-02        32.70\n",
      "2023-10-03        30.85\n",
      "2023-10-04        32.55\n",
      "2023-10-05        28.45\n",
      "2023-10-06        33.55\n"
     ]
    },
    {
     "data": {
      "image/png": "[encoded data removed]",
      "text/plain": [
       "<Figure size 1200x600 with 1 Axes>"
      ]
     },
     "metadata": {},
     "output_type": "display_data"
    }
   ],
   "source": [
    "print (test_y_final.head())\n",
    "plt.figure(figsize=(12, 6))\n",
    "plt.plot(test_y_final, label=test_y_final.columns[0])  # Falls nur 1 Spalte\n",
    "plt.title('test_y_final Verlauf')\n",
    "plt.xlabel('Zeit')\n",
    "plt.ylabel('Wert')\n",
    "plt.legend()\n",
    "plt.grid(True)\n",
    "plt.show()"
   ]
  },
  {
   "cell_type": "markdown",
   "metadata": {},
   "source": [
    "### 1.2 Log Transformation und Stationarity Test (nur für Testzwecke)"
   ]
  },
  {
   "cell_type": "markdown",
   "metadata": {},
   "source": [
    "#### Differenzierung\n",
    "- wahrscheinlcih mehr als 1 nötig "
   ]
  },
  {
   "cell_type": "code",
   "execution_count": null,
   "metadata": {},
   "outputs": [],
   "source": [
    "with open('diff_info.pkl', 'rb') as f:\n",
    "    diff_info = pickle.load(f)\n",
    "\n",
    "train_diff_order = diff_info['train_diff_order']\n",
    "train_y_diff_order = diff_info['train_y_diff_order']\n",
    "train_startwerte = diff_info['train_startwerte']\n",
    "train_y_startwert = diff_info['train_y_startwert']\n",
    "\n",
    "def apply_diff_order(df, diff_order_df):\n",
    "    # Kopie des DataFrames erstellen, um Originaldaten zu erhalten\n",
    "    df_diffed = df.copy()\n",
    "    \n",
    "    # Iteriere über jede Zeile im diff_order_df\n",
    "    for _, row in diff_order_df.iterrows():\n",
    "        col_name = row['Column']  # Spaltenname\n",
    "        diff_order = row['Diff Order']  # Differenzierungsordnung\n",
    "        \n",
    "        # Überprüfen, ob die Spalte im DataFrame existiert\n",
    "        if col_name in df.columns:\n",
    "            series = df_diffed[col_name]\n",
    "            \n",
    "            # Differenzierung für die angegebene Anzahl an Differenzierungsordnungen anwenden\n",
    "            for _ in range(diff_order):\n",
    "                series = series.diff()  # diff anwenden\n",
    "            df_diffed[col_name] = series\n",
    "            df_diffed[col_name] = df_diffed[col_name].bfill()\n",
    "        else:\n",
    "            print(f\"Spalte '{col_name}' nicht im DataFrame gefunden!\")\n",
    "\n",
    "    return df_diffed\n",
    "\n",
    "test_final_df_diff = apply_diff_order(test_final_df, train_diff_order)\n",
    "#test_y_final_diff = apply_diff_order(test_y_final, train_y_diff_order)"
   ]
  },
  {
   "cell_type": "markdown",
   "metadata": {},
   "source": [
    "## Feature Engineering"
   ]
  },
  {
   "cell_type": "markdown",
   "metadata": {},
   "source": [
    "### Feature Extraction"
   ]
  },
  {
   "cell_type": "markdown",
   "metadata": {},
   "source": [
    "#### Seasonality testing "
   ]
  },
  {
   "cell_type": "code",
   "execution_count": 48,
   "metadata": {},
   "outputs": [
    {
     "data": {
      "text/plain": [
       "\"y_final_2023 = y_final.loc['2023-01-01':]\\n\\ny_final_2023.plot(figsize=(12, 6))\\nplt.title('Plot von y_final')\\nplt.xlabel('Datum')\\nplt.ylabel('Wert')\\nplt.grid(True)\\nplt.show()\""
      ]
     },
     "execution_count": 48,
     "metadata": {},
     "output_type": "execute_result"
    }
   ],
   "source": [
    "#Saisonalität\n",
    "list_yearly_seasonality = [col for col in ['S-Coal Price (close)', 'A-Importiertes Erdgas Deutschland', 'N&P-Geschaeftsklima (Deutschland)', 'P-European_News_Index', 'P-GPR', 'A-Gas storage Full (%)', 'K-Temperatur 2m', 'N-Demand non-LDZ', 'N-Demand LDZ', 'S-Gas DA D', 'S-Oil Spot Price (Brent)', 'S-CO2 Price', 'S-Power price'] if col in test_final_df.columns]\n",
    "list_monthly_seasonality = [col for col in ['N-Demand non-LDZ', 'N-Demand LDZ'] if col in test_final_df.columns]\n",
    "list_weekly_seasonality = [col for col in ['S-Power price'] if col in test_final_df.columns]\n",
    "\"\"\"\n",
    "#ACF \n",
    "for spalte in list_seasonality:\n",
    "    plt.figure(figsize=(12, 6))\n",
    "    plot_acf(test_final_df[spalte], lags=400, ax=plt.gca())  # lags anpassen\n",
    "    plt.title(f'ACF - {spalte}')\n",
    "    plt.xlabel('Lag')\n",
    "    plt.ylabel('Autokorrelation')\n",
    "    plt.show()\n",
    "\n",
    "#STL aller Inputs\n",
    "final_df_from_062023 = test_final_df.loc['2023-05-01':]\n",
    "for column in final_df_from_062023.columns:\n",
    "    fig, axes = plt.subplots(nrows=4, ncols=1, figsize=(20, 12))  # Erstellt ein 4x1-Raster für die Plots\n",
    "\n",
    "    # ACF-Plot\n",
    "    plot_acf(final_df_from_062023[column], lags=380, ax=axes[0])\n",
    "    axes[0].set_title(f'Autokorrelation - {column}')\n",
    "\n",
    "    # STL-Dekomposition\n",
    "    try:\n",
    "        stl = STL(final_df_from_062023[column], period=170)\n",
    "        res = stl.fit()\n",
    "        res.observed.plot(ax=axes[1])\n",
    "        axes[1].set_title(f'Original - {column}')\n",
    "        res.trend.plot(ax=axes[2])\n",
    "        axes[2].set_title(f'Trend - {column}')\n",
    "        res.seasonal.plot(ax=axes[3])\n",
    "        axes[3].set_title(f'Saisonalität - {column}')\n",
    "        res.resid.plot(ax=axes[4])\n",
    "        axes[4].set_title(f'Residuen - {column}')\n",
    "\n",
    "    except Exception as e:\n",
    "        print(f\"STL-Dekomposition für {column} fehlgeschlagen: {e}\")\n",
    "\n",
    "    plt.tight_layout()  # Sorgt für eine bessere Anordnung der Plots\n",
    "    plt.show() # Zeigt alle Plots in einem Bild an\"\"\"\n",
    "#ACF für alle Input Variablen\n",
    "\"\"\"final_df_march_2022 = test_final_df.loc['2022-03-01':]\n",
    "variables = test_final_df.columns\n",
    "num_vars = len(variables)\n",
    "\n",
    "cols = 3\n",
    "rows = int(np.ceil(num_vars / cols))\n",
    "\n",
    "fig, axes = plt.subplots(rows, cols, figsize=(15, rows * 4))\n",
    "\n",
    "if num_vars == 1:\n",
    "    axes = [axes]\n",
    "\n",
    "for i, var in enumerate(variables):\n",
    "    ax = axes[i // cols, i % cols]\n",
    "    plot_acf(final_df_march_2022[var].dropna(), ax=ax, lags=600)\n",
    "    ax.set_title(f\"ACF für {var}\")\n",
    "\n",
    "for j in range(i + 1, rows * cols):\n",
    "    fig.delaxes(axes[j // cols, j % cols])\n",
    "\n",
    "plt.tight_layout()\n",
    "plt.show()\"\"\"\n",
    "\n",
    "\n",
    "#Jede Spalte im DataFrame plotten\n",
    "\"\"\"def plot_all_columns(df):\n",
    "    for column in df.columns:\n",
    "        plt.figure(figsize=(10, 5))  # Erstellt eine neue Figur für jede Spalte\n",
    "        plt.plot(df[column])\n",
    "        plt.title(f\"Plot für {column}\")\n",
    "        plt.xlabel(\"Index\")\n",
    "        plt.ylabel(\"Wert\")\n",
    "        plt.show()\n",
    "plot_all_columns(test_final_df)\"\"\"\n",
    "\n",
    "# Plot y_final\n",
    "\"\"\"y_final_2023 = y_final.loc['2023-01-01':]\n",
    "\n",
    "y_final_2023.plot(figsize=(12, 6))\n",
    "plt.title('Plot von y_final')\n",
    "plt.xlabel('Datum')\n",
    "plt.ylabel('Wert')\n",
    "plt.grid(True)\n",
    "plt.show()\"\"\"\n",
    "\n"
   ]
  },
  {
   "cell_type": "markdown",
   "metadata": {},
   "source": [
    "#### Lag features oder (rolling) window\n",
    "Beeded to convert time-series into Machine Learning problem\n",
    "- test with ACF and PACF to determine the number of legs \n",
    "- might be useful to determine lags first and differentiate afterwards since teh models do not need stationarity"
   ]
  },
  {
   "cell_type": "code",
   "execution_count": null,
   "metadata": {},
   "outputs": [],
   "source": [
    "#für Testzwecke mit kleinerem Datensatz\n",
    "short_test_df = test_final_df\n",
    "with open('short_test_df.pkl', 'wb') as f:\n",
    "    pickle.dump(short_test_df, f)"
   ]
  },
  {
   "cell_type": "markdown",
   "metadata": {},
   "source": [
    "#### Cyclic Features\n"
   ]
  },
  {
   "cell_type": "code",
   "execution_count": null,
   "metadata": {},
   "outputs": [],
   "source": [
    "\n",
    "\n",
    "\n",
    "# ---- 1. Konfiguration ----\n",
    "\n",
    "# Manuell definierte saisonale Features\n",
    "features_seasonality = [\n",
    "    'K-Wind speed', 'N-Demand', 'N&P-Geschaeftsklima', 'S-Power price'\n",
    "]\n",
    "\n",
    "# Gruppenzuweisung nach Präfix\n",
    "group_map = {\n",
    "    \"S-\": \"price\",\n",
    "    \"K-\": \"climate\",\n",
    "    \"A-\": \"storage\",\n",
    "    \"N-\": \"demand\",\n",
    "    \"P-\": \"policy\",\n",
    "    \"N&P\": \"policy\"  # Spezialfall für zusammengesetzte Bezeichner\n",
    "}\n",
    "\n",
    "# Erweiterte saisonale Lags (falls noch nicht vorhanden)\n",
    "list_yearly_seasonality = [\n",
    "    col for col in [\n",
    "        'S-Coal Price (close)', 'A-Importiertes Erdgas Deutschland',\n",
    "        'N&P-Geschaeftsklima (Deutschland)', 'P-European_News_Index', 'P-GPR',\n",
    "        'A-Gas storage Full (%)', 'K-Temperatur 2m',\n",
    "        'N-Demand non-LDZ', 'N-Demand LDZ', 'S-Gas DA D',\n",
    "        'S-Oil Spot Price (Brent)', 'S-CO2 Price', 'S-Power price'\n",
    "    ] if col in test_final_df.columns\n",
    "]\n",
    "\n",
    "list_monthly_seasonality = [\n",
    "    col for col in ['N-Demand non-LDZ', 'N-Demand LDZ'] if col in test_final_df.columns\n",
    "]\n",
    "\n",
    "list_weekly_seasonality = [\n",
    "    col for col in ['S-Gas DA D', 'S-Power price'] if col in test_final_df.columns\n",
    "]\n",
    "\n",
    "# ---- 2. Gruppierung der Spalten nach Präfix ----\n",
    "grouped_features = defaultdict(list)\n",
    "\n",
    "for col in test_final_df.columns:\n",
    "    assigned = False\n",
    "    for prefix, group in group_map.items():\n",
    "        if col.startswith(prefix):\n",
    "            grouped_features[group].append(col)\n",
    "            assigned = True\n",
    "            break\n",
    "    if not assigned:\n",
    "        grouped_features[\"other\"].append(col)\n",
    "\n",
    "# ---- 3. Feature-Ableitung nach Gruppenzugehörigkeit ----\n",
    "all_features = []\n",
    "\n",
    "for group, var_list in grouped_features.items():\n",
    "    for col in var_list:\n",
    "        base = test_final_df[col]\n",
    "        out = pd.DataFrame(index=test_final_df.index)\n",
    "\n",
    "        # Alle kriegen lag1\n",
    "        out[f\"{col}_lag1\"] = base.shift(1)\n",
    "\n",
    "        # Saisonale Lags, wenn zutreffend\n",
    "  \n",
    "\n",
    "        if group == \"price\":\n",
    "            out[f\"{col}_lag7\"] = base.shift(7)\n",
    "            out[f\"{col}_rollmean_3\"] = base.rolling(3, min_periods=1).mean()\n",
    "            out[f\"{col}_rollmean_7\"] = base.rolling(7, min_periods=1).mean()\n",
    "            out[f\"{col}_rollstd_3\"] = base.rolling(3, min_periods=1).std()\n",
    "            out[f\"{col}_rollmax_7\"] = base.rolling(7, min_periods=1).max()\n",
    "\n",
    "        elif group == \"climate\":\n",
    "            out[f\"{col}_lag7\"] = base.shift(7)\n",
    "            out[f\"{col}_rollmean_7\"] = base.rolling(7, min_periods=1).mean()\n",
    "            out[f\"{col}_rollmean_30\"] = base.rolling(30, min_periods=1).mean()\n",
    "            out[f\"{col}_rollstd_7\"] = base.rolling(7, min_periods=1).std()\n",
    "            out[f\"{col}_rollmin_7\"] = base.rolling(7, min_periods=1).min()\n",
    "            out[f\"{col}_rollmax_7\"] = base.rolling(7, min_periods=1).max()\n",
    "\n",
    "        elif group == \"demand\":\n",
    "            out[f\"{col}_lag7\"] = base.shift(7)\n",
    "          #  out[f\"{col}_lag365\"] = base.shift(365)\n",
    "            out[f\"{col}_rollmean_30\"] = base.rolling(30, min_periods=1).mean()\n",
    "            out[f\"{col}_rollstd_30\"] = base.rolling(30, min_periods=1).std()\n",
    "\n",
    "        elif group == \"storage\":\n",
    "            out[f\"{col}_rollmean_7\"] = base.rolling(7, min_periods=1).mean()\n",
    "            out[f\"{col}_rollmin_7\"] = base.rolling(7, min_periods=1).min()\n",
    "\n",
    "        elif group == \"policy\":\n",
    "            out[f\"{col}_rollmean_30\"] = base.rolling(30, min_periods=1).mean()\n",
    "\n",
    "        all_features.append(out)\n",
    "\n",
    "# ---- 4. DataFrame zusammenführen ----\n",
    "features_df = pd.concat(all_features, axis=1)\n",
    "test_final_df = pd.concat([test_final_df, features_df], axis=1)\n",
    "\n",
    "# ---- 5. Zusätzliche saisonale Lags, falls noch nicht vorhanden ----\n",
    "\n",
    "for col in list_monthly_seasonality:\n",
    "    lag_col = f\"{col}_lag30\"\n",
    "    if lag_col not in test_final_df.columns:\n",
    "        test_final_df[lag_col] = test_final_df[col].shift(30)\n",
    "\n",
    "for col in list_weekly_seasonality:\n",
    "    lag_col = f\"{col}_lag7\"\n",
    "    if lag_col not in test_final_df.columns:\n",
    "        test_final_df[lag_col] = test_final_df[col].shift(7)\n",
    "\n",
    "# ---- 6. NaN-Behandlung & Finalisierung ----\n",
    "test_final_df = test_final_df.interpolate().bfill().ffill().astype('float32')"
   ]
  },
  {
   "cell_type": "code",
   "execution_count": 53,
   "metadata": {},
   "outputs": [
    {
     "data": {
      "text/plain": [
       "'# Beispielhafte Interaktionskonstruktionen:\\ntest_final_df[\"Gas_Dx_LDZmean30\"] = (\\n    test_final_df[\"S-Gas DA D\"] * test_final_df[\"N-Demand LDZ_rollmean_30\"]\\n)\\n\\ntest_final_df[\"GasLag1_x_Wind7\"] = (\\n    test_final_df[\"S-Gas DA D_lag1\"] * test_final_df[\"K-Wind speed_rollmean_7\"]\\n)\\n\\ntest_final_df[\"CoalStd_x_TempMin\"] = (\\n    test_final_df[\"S-Coal Price (close)_rollstd_3\"] * test_final_df[\"K-Wind speed_rollmin_7\"]\\n)\\n\\ntest_final_df[\"NonLDZ_vs_LDZ\"] = (\\n    test_final_df[\"N-Demand non-LDZ_lag30\"] / test_final_df[\"N-Demand LDZ_rollmean_30\"]\\n)\\n\\ntest_final_df[\"News30_x_Gas\"] = (\\n    test_final_df[\"P-European_News_Index_rollmean_30\"] * test_final_df[\"S-Gas DA D\"]\\n)\\n\\ntest_final_df[\"Gas_diff_lag1\"] = (\\n    test_final_df[\"S-Gas DA D\"] - test_final_df[\"S-Gas DA D_lag1\"]\\n)\\n\\ntest_final_df[\"LDZ_std_ratio\"] = (\\n    test_final_df[\"N-Demand LDZ_rollstd_30\"] / test_final_df[\"N-Demand LDZ_rollmean_30\"]\\n)\\n'"
      ]
     },
     "execution_count": 53,
     "metadata": {},
     "output_type": "execute_result"
    }
   ],
   "source": [
    "\"\"\"# Beispielhafte Interaktionskonstruktionen:\n",
    "test_final_df[\"Gas_Dx_LDZmean30\"] = (\n",
    "    test_final_df[\"S-Gas DA D\"] * test_final_df[\"N-Demand LDZ_rollmean_30\"]\n",
    ")\n",
    "\n",
    "test_final_df[\"GasLag1_x_Wind7\"] = (\n",
    "    test_final_df[\"S-Gas DA D_lag1\"] * test_final_df[\"K-Wind speed_rollmean_7\"]\n",
    ")\n",
    "\n",
    "test_final_df[\"CoalStd_x_TempMin\"] = (\n",
    "    test_final_df[\"S-Coal Price (close)_rollstd_3\"] * test_final_df[\"K-Wind speed_rollmin_7\"]\n",
    ")\n",
    "\n",
    "test_final_df[\"NonLDZ_vs_LDZ\"] = (\n",
    "    test_final_df[\"N-Demand non-LDZ_lag30\"] / test_final_df[\"N-Demand LDZ_rollmean_30\"]\n",
    ")\n",
    "\n",
    "test_final_df[\"News30_x_Gas\"] = (\n",
    "    test_final_df[\"P-European_News_Index_rollmean_30\"] * test_final_df[\"S-Gas DA D\"]\n",
    ")\n",
    "\n",
    "test_final_df[\"Gas_diff_lag1\"] = (\n",
    "    test_final_df[\"S-Gas DA D\"] - test_final_df[\"S-Gas DA D_lag1\"]\n",
    ")\n",
    "\n",
    "test_final_df[\"LDZ_std_ratio\"] = (\n",
    "    test_final_df[\"N-Demand LDZ_rollstd_30\"] / test_final_df[\"N-Demand LDZ_rollmean_30\"]\n",
    ")\n",
    "\"\"\"\n"
   ]
  },
  {
   "cell_type": "markdown",
   "metadata": {},
   "source": [
    "#### Scaling"
   ]
  },
  {
   "cell_type": "code",
   "execution_count": 55,
   "metadata": {},
   "outputs": [
    {
     "name": "stdout",
     "output_type": "stream",
     "text": [
      "Index(['S-Coal Price (close)', 'K-Wind speed', 'S-Power price',\n",
      "       'A-Flow Continental LNG Sendout ', 'A-Importiertes Erdgas Deutschland',\n",
      "       'N&P-Geschaeftsklima (Deutschland)', 'P-European_News_Index', 'P-GPR',\n",
      "       'A-Gas storage Full (%)', 'K-Temperatur 2m', 'N-Demand non-LDZ',\n",
      "       'N-Demand LDZ', 'P-Schluss DXY ', 'P-EXY Average ', 'S-Gas DA D',\n",
      "       'S-Oil Spot Price (Brent)', 'S-CO2 Price', 'S-Coal Price (close)_lag1',\n",
      "       'S-Coal Price (close)_lag7', 'S-Coal Price (close)_rollmean_3',\n",
      "       'S-Coal Price (close)_rollmean_7', 'S-Coal Price (close)_rollstd_3',\n",
      "       'S-Coal Price (close)_rollmax_7', 'S-Power price_lag1',\n",
      "       'S-Power price_lag7', 'S-Power price_rollmean_3',\n",
      "       'S-Power price_rollmean_7', 'S-Power price_rollstd_3',\n",
      "       'S-Power price_rollmax_7', 'S-Gas DA D_lag1', 'S-Gas DA D_lag7',\n",
      "       'S-Gas DA D_rollmean_3', 'S-Gas DA D_rollmean_7',\n",
      "       'S-Gas DA D_rollstd_3', 'S-Gas DA D_rollmax_7',\n",
      "       'S-Oil Spot Price (Brent)_lag1', 'S-Oil Spot Price (Brent)_lag7',\n",
      "       'S-Oil Spot Price (Brent)_rollmean_3',\n",
      "       'S-Oil Spot Price (Brent)_rollmean_7',\n",
      "       'S-Oil Spot Price (Brent)_rollstd_3',\n",
      "       'S-Oil Spot Price (Brent)_rollmax_7', 'S-CO2 Price_lag1',\n",
      "       'S-CO2 Price_lag7', 'S-CO2 Price_rollmean_3', 'S-CO2 Price_rollmean_7',\n",
      "       'S-CO2 Price_rollstd_3', 'S-CO2 Price_rollmax_7', 'K-Wind speed_lag1',\n",
      "       'K-Wind speed_lag7', 'K-Wind speed_rollmean_7',\n",
      "       'K-Wind speed_rollmean_30', 'K-Wind speed_rollstd_7',\n",
      "       'K-Wind speed_rollmin_7', 'K-Wind speed_rollmax_7',\n",
      "       'K-Temperatur 2m_lag1', 'K-Temperatur 2m_lag7',\n",
      "       'K-Temperatur 2m_rollmean_7', 'K-Temperatur 2m_rollmean_30',\n",
      "       'K-Temperatur 2m_rollstd_7', 'K-Temperatur 2m_rollmin_7',\n",
      "       'K-Temperatur 2m_rollmax_7', 'A-Flow Continental LNG Sendout _lag1',\n",
      "       'A-Flow Continental LNG Sendout _rollmean_7',\n",
      "       'A-Flow Continental LNG Sendout _rollmin_7',\n",
      "       'A-Importiertes Erdgas Deutschland_lag1',\n",
      "       'A-Importiertes Erdgas Deutschland_rollmean_7',\n",
      "       'A-Importiertes Erdgas Deutschland_rollmin_7',\n",
      "       'A-Gas storage Full (%)_lag1', 'A-Gas storage Full (%)_rollmean_7',\n",
      "       'A-Gas storage Full (%)_rollmin_7',\n",
      "       'N&P-Geschaeftsklima (Deutschland)_lag1',\n",
      "       'N&P-Geschaeftsklima (Deutschland)_rollmean_30',\n",
      "       'P-European_News_Index_lag1', 'P-European_News_Index_rollmean_30',\n",
      "       'P-GPR_lag1', 'P-GPR_rollmean_30', 'P-Schluss DXY _lag1',\n",
      "       'P-Schluss DXY _rollmean_30', 'P-EXY Average _lag1',\n",
      "       'P-EXY Average _rollmean_30', 'N-Demand non-LDZ_lag1',\n",
      "       'N-Demand non-LDZ_lag7', 'N-Demand non-LDZ_rollmean_30',\n",
      "       'N-Demand non-LDZ_rollstd_30', 'N-Demand LDZ_lag1', 'N-Demand LDZ_lag7',\n",
      "       'N-Demand LDZ_rollmean_30', 'N-Demand LDZ_rollstd_30',\n",
      "       'N-Demand non-LDZ_lag30', 'N-Demand LDZ_lag30'],\n",
      "      dtype='object')\n",
      "Index(['S-Gas DA NL'], dtype='object')\n",
      "            S-Gas DA NL\n",
      "2023-10-02     0.029276\n",
      "2023-10-03     0.022604\n",
      "2023-10-04     0.028735\n",
      "2023-10-05     0.013947\n",
      "2023-10-06     0.032342\n",
      "...                 ...\n",
      "2024-09-25     0.046228\n",
      "2024-09-26     0.046589\n",
      "2024-09-27     0.050664\n",
      "2024-09-30     0.049835\n",
      "2024-10-01     0.051566\n",
      "\n",
      "[262 rows x 1 columns]\n"
     ]
    }
   ],
   "source": [
    "\n",
    "min_max_scaler = joblib.load('min_max_scaler.pkl')\n",
    "\n",
    "# 2. Auswahl der numerischen Spalten (alle außer der 'Date' Spalte)\n",
    "numerical_columns = test_final_df.select_dtypes(include=['float32']).columns\n",
    "print(numerical_columns)\n",
    "scaled_test_data = min_max_scaler.transform(test_final_df[numerical_columns])\n",
    "\n",
    "scaled_test_final_df = pd.DataFrame(scaled_test_data, columns=numerical_columns, index=test_final_df.index)\n",
    "\n",
    "#print(scaled_test_final_df)\n",
    "\n",
    "y_min_max_scaler = joblib.load('y_min_max_scaler.pkl')\n",
    "\n",
    "# 2. Auswahl der numerischen Spalten (alle außer der 'Date' Spalte)\n",
    "test_y_dinal_df = test_y_final.astype('float32')\n",
    "numerical_columns = test_y_final.select_dtypes(include=['float64','int32']).columns\n",
    "print(numerical_columns)\n",
    "scaled_test_y_data = y_min_max_scaler.transform(test_y_final[numerical_columns])\n",
    "\n",
    "scaled_test_y_final_df = pd.DataFrame(scaled_test_y_data, columns=numerical_columns, index=test_y_final.index)\n",
    "\n",
    "print(scaled_test_y_final_df)\n",
    "unscaled_test_final_df = test_final_df.copy()\n",
    "unscaled_test_y_final = test_y_final.copy()\n",
    "test_final_df = scaled_test_final_df\n",
    "test_y_final = scaled_test_y_final_df"
   ]
  },
  {
   "cell_type": "markdown",
   "metadata": {},
   "source": [
    "#### Encoding und Dummies"
   ]
  },
  {
   "cell_type": "code",
   "execution_count": 56,
   "metadata": {},
   "outputs": [],
   "source": [
    "# Add cyclic dummies\n",
    "\n",
    "test_final_df['Month'] = test_final_df.index.month_name()\n",
    "test_final_df['Season'] = test_final_df['Month'].apply(lambda m: 'Summer' if m in ['May', 'June', 'July', 'August', 'Septembre'] else 'Winter')\n",
    "# One-Hot-Encoding für Saison und Monat, benannt als Saison_Sommer, Saison_Winter und Monat_1 bis Monat_12\n",
    "test_final_df = pd.get_dummies(test_final_df, columns=['Season'], drop_first=False, dtype= int)\n",
    "test_final_df = test_final_df.drop(columns=['Month'], axis=1)"
   ]
  },
  {
   "cell_type": "code",
   "execution_count": 57,
   "metadata": {},
   "outputs": [],
   "source": [
    "test_df = test_final_df\n",
    "test_df = test_df.bfill()\n",
    "test_y_df = test_y_final\n",
    "with open('test_df.pkl', 'wb') as f:\n",
    "    pickle.dump(test_df, f)\n",
    "with open('test_y_df.pkl', 'wb') as f:\n",
    "    pickle.dump(test_y_df, f)"
   ]
  },
  {
   "cell_type": "code",
   "execution_count": 58,
   "metadata": {},
   "outputs": [],
   "source": [
    "\n",
    "unscaled_test_final_df['Month'] = unscaled_test_final_df.index.month_name()\n",
    "unscaled_test_final_df['Season'] = unscaled_test_final_df['Month'].apply(lambda m: 'Summer' if m in ['May', 'June', 'July', 'August', 'Septembre'] else 'Winter')\n",
    "# One-Hot-Encoding für Saison und Monat, benannt als Saison_Sommer, Saison_Winter und Monat_1 bis Monat_12\n",
    "unscaled_test_final_df = pd.get_dummies(unscaled_test_final_df, columns=['Season'], drop_first=False, dtype= int)\n",
    "unscaled_test_final_df = unscaled_test_final_df.drop(columns=['Month'], axis=1)"
   ]
  },
  {
   "cell_type": "code",
   "execution_count": 59,
   "metadata": {},
   "outputs": [],
   "source": [
    "\n",
    "unscaled_test_final_df = unscaled_test_final_df.bfill()\n",
    "with open('unscaled_test_final_df.pkl', 'wb') as f:\n",
    "    pickle.dump(unscaled_test_final_df, f)\n",
    "with open('unscaled_test_y.pkl', 'wb') as f:\n",
    "    pickle.dump(unscaled_test_y_final, f)"
   ]
  },
  {
   "cell_type": "code",
   "execution_count": 60,
   "metadata": {},
   "outputs": [
    {
     "name": "stdout",
     "output_type": "stream",
     "text": [
      "            S-Gas DA NL\n",
      "2023-10-02     0.029276\n",
      "2023-10-03     0.022604\n",
      "2023-10-04     0.028735\n",
      "2023-10-05     0.013947\n",
      "2023-10-06     0.032342\n",
      "...                 ...\n",
      "2024-09-25     0.046228\n",
      "2024-09-26     0.046589\n",
      "2024-09-27     0.050664\n",
      "2024-09-30     0.049835\n",
      "2024-10-01     0.051566\n",
      "\n",
      "[262 rows x 1 columns]\n"
     ]
    }
   ],
   "source": [
    "print (test_y_df)"
   ]
  }
 ],
 "metadata": {
  "kernelspec": {
   "display_name": "venvMasterarbeit",
   "language": "python",
   "name": "python3"
  },
  "language_info": {
   "codemirror_mode": {
    "name": "ipython",
    "version": 3
   },
   "file_extension": ".py",
   "mimetype": "text/x-python",
   "name": "python",
   "nbconvert_exporter": "python",
   "pygments_lexer": "ipython3",
   "version": "3.12.9"
  }
 },
 "nbformat": 4,
 "nbformat_minor": 2
}
